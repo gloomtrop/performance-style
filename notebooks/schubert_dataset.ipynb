{
 "cells": [
  {
   "cell_type": "code",
   "execution_count": 16,
   "metadata": {
    "collapsed": true
   },
   "outputs": [],
   "source": [
    "import pandas as pd\n",
    "from utils import paths\n",
    "import os"
   ]
  },
  {
   "cell_type": "code",
   "execution_count": 41,
   "outputs": [],
   "source": [
    "columns = ['name', 'nationality', 'year', 'piece', 'piece_id']\n",
    "p1 = ['Jean-Selim Abdelmoula', 'Switzerland', 2018]\n",
    "p2 = ['Vasyl Kotys', 'Ukraine', 2018]\n",
    "p3 = ['Cheng Guang', 'China', 2014]\n",
    "p4 = ['Peter Friis Johannson', 'Denmark/Sweden', 2014]\n",
    "p5 = ['Piotr Rozanski', 'Poland', 2009]\n",
    "p6 = ['Eric Zuber', 'USA', 2009]\n",
    "p7 = ['Gregory DeTurck', 'USA', 2006]\n",
    "p8 = ['Konstantin Krasnitsky', 'Belarus', 2006]\n",
    "p9 = ['Mikhail Mordvinov', 'Russia', 2006]\n",
    "p10 = ['Edisher Savitski', 'Georgia', 2006]\n",
    "p11 = ['Benjamin Kim', 'USA', 2004]\n",
    "players = [p1, p2, p3, p4, p5, p6, p7, p8, p9, p10, p11]\n",
    "\n",
    "for i, player in enumerate(players):\n",
    "    player += ['D960', i]"
   ],
   "metadata": {
    "collapsed": false,
    "pycharm": {
     "name": "#%% D960\n"
    }
   }
  },
  {
   "cell_type": "code",
   "execution_count": 42,
   "outputs": [],
   "source": [
    "p1 = ['Misha Galant', 'USA', 2018]\n",
    "p2 = ['Darya Kiseleva', 'Russia', 2018]\n",
    "p3 = ['Victor Maslov', 'Russia', 2018]\n",
    "p4 = ['Ka Jeng Wong', 'Hong Kong', 2018]\n",
    "p5 = ['Alexey Chernov', 'Russia', 2014]\n",
    "p6 = ['Timur Mustakimov', 'Russia', 2014]\n",
    "p7 = ['Grace Eun Hae Kim', 'South Korea', 2009]\n",
    "p8 = ['Rui Shi', 'China', 2009]\n",
    "p9 = ['Helene Tysman', 'France', 2009]\n",
    "p10 = ['Denis Evstioukhine', 'Russia', 2004]\n",
    "p11 = ['Hanna Shybayeva', 'Belarus', 2004]\n",
    "p12 = ['Yung Wook Yoo', 'South Korea', 2004]\n",
    "p13 = ['Mei-Ting Sun', 'USA', 2002]\n",
    "\n",
    "players_d958 = [p1, p2, p3, p4, p5, p6, p7, p8, p9, p10, p11, p12, p13]\n",
    "\n",
    "for i, player in enumerate(players_d958):\n",
    "    player += ['D958', i]\n",
    "\n",
    "players += players_d958"
   ],
   "metadata": {
    "collapsed": false,
    "pycharm": {
     "name": "#%% 958\n"
    }
   }
  },
  {
   "cell_type": "code",
   "execution_count": 44,
   "outputs": [
    {
     "data": {
      "text/plain": "                     name     nationality  year piece  piece_id\n0   Jean-Selim Abdelmoula     Switzerland  2018  D960         0\n1             Vasyl Kotys         Ukraine  2018  D960         1\n2             Cheng Guang           China  2014  D960         2\n3   Peter Friis Johannson  Denmark/Sweden  2014  D960         3\n4          Piotr Rozanski          Poland  2009  D960         4\n5              Eric Zuber             USA  2009  D960         5\n6         Gregory DeTurck             USA  2006  D960         6\n7   Konstantin Krasnitsky         Belarus  2006  D960         7\n8       Mikhail Mordvinov          Russia  2006  D960         8\n9        Edisher Savitski         Georgia  2006  D960         9\n10           Benjamin Kim             USA  2004  D960        10\n11           Misha Galant             USA  2018  D958         0\n12         Darya Kiseleva          Russia  2018  D958         1\n13          Victor Maslov          Russia  2018  D958         2\n14           Ka Jeng Wong       Hong Kong  2018  D958         3\n15         Alexey Chernov          Russia  2014  D958         4\n16       Timur Mustakimov          Russia  2014  D958         5\n17      Grace Eun Hae Kim     South Korea  2009  D958         6\n18                Rui Shi           China  2009  D958         7\n19          Helene Tysman          France  2009  D958         8\n20     Denis Evstioukhine          Russia  2004  D958         9\n21        Hanna Shybayeva         Belarus  2004  D958        10\n22          Yung Wook Yoo     South Korea  2004  D958        11\n23           Mei-Ting Sun             USA  2002  D958        12",
      "text/html": "<div>\n<style scoped>\n    .dataframe tbody tr th:only-of-type {\n        vertical-align: middle;\n    }\n\n    .dataframe tbody tr th {\n        vertical-align: top;\n    }\n\n    .dataframe thead th {\n        text-align: right;\n    }\n</style>\n<table border=\"1\" class=\"dataframe\">\n  <thead>\n    <tr style=\"text-align: right;\">\n      <th></th>\n      <th>name</th>\n      <th>nationality</th>\n      <th>year</th>\n      <th>piece</th>\n      <th>piece_id</th>\n    </tr>\n  </thead>\n  <tbody>\n    <tr>\n      <th>0</th>\n      <td>Jean-Selim Abdelmoula</td>\n      <td>Switzerland</td>\n      <td>2018</td>\n      <td>D960</td>\n      <td>0</td>\n    </tr>\n    <tr>\n      <th>1</th>\n      <td>Vasyl Kotys</td>\n      <td>Ukraine</td>\n      <td>2018</td>\n      <td>D960</td>\n      <td>1</td>\n    </tr>\n    <tr>\n      <th>2</th>\n      <td>Cheng Guang</td>\n      <td>China</td>\n      <td>2014</td>\n      <td>D960</td>\n      <td>2</td>\n    </tr>\n    <tr>\n      <th>3</th>\n      <td>Peter Friis Johannson</td>\n      <td>Denmark/Sweden</td>\n      <td>2014</td>\n      <td>D960</td>\n      <td>3</td>\n    </tr>\n    <tr>\n      <th>4</th>\n      <td>Piotr Rozanski</td>\n      <td>Poland</td>\n      <td>2009</td>\n      <td>D960</td>\n      <td>4</td>\n    </tr>\n    <tr>\n      <th>5</th>\n      <td>Eric Zuber</td>\n      <td>USA</td>\n      <td>2009</td>\n      <td>D960</td>\n      <td>5</td>\n    </tr>\n    <tr>\n      <th>6</th>\n      <td>Gregory DeTurck</td>\n      <td>USA</td>\n      <td>2006</td>\n      <td>D960</td>\n      <td>6</td>\n    </tr>\n    <tr>\n      <th>7</th>\n      <td>Konstantin Krasnitsky</td>\n      <td>Belarus</td>\n      <td>2006</td>\n      <td>D960</td>\n      <td>7</td>\n    </tr>\n    <tr>\n      <th>8</th>\n      <td>Mikhail Mordvinov</td>\n      <td>Russia</td>\n      <td>2006</td>\n      <td>D960</td>\n      <td>8</td>\n    </tr>\n    <tr>\n      <th>9</th>\n      <td>Edisher Savitski</td>\n      <td>Georgia</td>\n      <td>2006</td>\n      <td>D960</td>\n      <td>9</td>\n    </tr>\n    <tr>\n      <th>10</th>\n      <td>Benjamin Kim</td>\n      <td>USA</td>\n      <td>2004</td>\n      <td>D960</td>\n      <td>10</td>\n    </tr>\n    <tr>\n      <th>11</th>\n      <td>Misha Galant</td>\n      <td>USA</td>\n      <td>2018</td>\n      <td>D958</td>\n      <td>0</td>\n    </tr>\n    <tr>\n      <th>12</th>\n      <td>Darya Kiseleva</td>\n      <td>Russia</td>\n      <td>2018</td>\n      <td>D958</td>\n      <td>1</td>\n    </tr>\n    <tr>\n      <th>13</th>\n      <td>Victor Maslov</td>\n      <td>Russia</td>\n      <td>2018</td>\n      <td>D958</td>\n      <td>2</td>\n    </tr>\n    <tr>\n      <th>14</th>\n      <td>Ka Jeng Wong</td>\n      <td>Hong Kong</td>\n      <td>2018</td>\n      <td>D958</td>\n      <td>3</td>\n    </tr>\n    <tr>\n      <th>15</th>\n      <td>Alexey Chernov</td>\n      <td>Russia</td>\n      <td>2014</td>\n      <td>D958</td>\n      <td>4</td>\n    </tr>\n    <tr>\n      <th>16</th>\n      <td>Timur Mustakimov</td>\n      <td>Russia</td>\n      <td>2014</td>\n      <td>D958</td>\n      <td>5</td>\n    </tr>\n    <tr>\n      <th>17</th>\n      <td>Grace Eun Hae Kim</td>\n      <td>South Korea</td>\n      <td>2009</td>\n      <td>D958</td>\n      <td>6</td>\n    </tr>\n    <tr>\n      <th>18</th>\n      <td>Rui Shi</td>\n      <td>China</td>\n      <td>2009</td>\n      <td>D958</td>\n      <td>7</td>\n    </tr>\n    <tr>\n      <th>19</th>\n      <td>Helene Tysman</td>\n      <td>France</td>\n      <td>2009</td>\n      <td>D958</td>\n      <td>8</td>\n    </tr>\n    <tr>\n      <th>20</th>\n      <td>Denis Evstioukhine</td>\n      <td>Russia</td>\n      <td>2004</td>\n      <td>D958</td>\n      <td>9</td>\n    </tr>\n    <tr>\n      <th>21</th>\n      <td>Hanna Shybayeva</td>\n      <td>Belarus</td>\n      <td>2004</td>\n      <td>D958</td>\n      <td>10</td>\n    </tr>\n    <tr>\n      <th>22</th>\n      <td>Yung Wook Yoo</td>\n      <td>South Korea</td>\n      <td>2004</td>\n      <td>D958</td>\n      <td>11</td>\n    </tr>\n    <tr>\n      <th>23</th>\n      <td>Mei-Ting Sun</td>\n      <td>USA</td>\n      <td>2002</td>\n      <td>D958</td>\n      <td>12</td>\n    </tr>\n  </tbody>\n</table>\n</div>"
     },
     "execution_count": 44,
     "metadata": {},
     "output_type": "execute_result"
    }
   ],
   "source": [
    "players_df = pd.DataFrame(players, columns=columns)\n",
    "players_df"
   ],
   "metadata": {
    "collapsed": false,
    "pycharm": {
     "name": "#%%\n"
    }
   }
  },
  {
   "cell_type": "code",
   "execution_count": 45,
   "outputs": [],
   "source": [
    "schubert_path = os.path.join(paths.get_root_folder(), 'data', 'schubert')\n",
    "file_name = 'meta.json'\n",
    "file_path = os.path.join(schubert_path, file_name)\n",
    "players_df.to_json(file_path)"
   ],
   "metadata": {
    "collapsed": false,
    "pycharm": {
     "name": "#%%\n"
    }
   }
  }
 ],
 "metadata": {
  "kernelspec": {
   "display_name": "Python 3",
   "language": "python",
   "name": "python3"
  },
  "language_info": {
   "codemirror_mode": {
    "name": "ipython",
    "version": 2
   },
   "file_extension": ".py",
   "mimetype": "text/x-python",
   "name": "python",
   "nbconvert_exporter": "python",
   "pygments_lexer": "ipython2",
   "version": "2.7.6"
  }
 },
 "nbformat": 4,
 "nbformat_minor": 0
}