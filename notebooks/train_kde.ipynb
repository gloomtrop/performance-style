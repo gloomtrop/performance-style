{
 "cells": [
  {
   "cell_type": "code",
   "execution_count": 8,
   "metadata": {
    "collapsed": true
   },
   "outputs": [],
   "source": [
    "from sklearn.neighbors import KernelDensity\n",
    "from utils import paths\n",
    "import os\n",
    "import pandas as pd\n",
    "import numpy as np\n",
    "import matplotlib.pyplot as plt\n",
    "import scipy"
   ]
  },
  {
   "cell_type": "code",
   "execution_count": 61,
   "outputs": [],
   "source": [
    "piece = 'D960'\n",
    "deviations_path = os.path.join(paths.get_root_folder(), 'processed data', piece, 'deviations')\n",
    "deviations_names = paths.get_files(deviations_path)\n",
    "training_data = pd.DataFrame()\n",
    "\n",
    "for deviation in deviations_names:\n",
    "    data_path = os.path.join(deviations_path, deviation)\n",
    "    performer = deviation.split('-')[0]\n",
    "    data = pd.read_json(data_path)\n",
    "    data['performer'] = performer\n",
    "    training_data = pd.concat([training_data, data])"
   ],
   "metadata": {
    "collapsed": false,
    "pycharm": {
     "name": "#%%\n"
    }
   }
  },
  {
   "cell_type": "code",
   "execution_count": 62,
   "outputs": [
    {
     "data": {
      "text/plain": "         time_onset_standardized  time_offset_standardized  \\\nP1-0-5                  0.297720                  0.401625   \nP1-1-1                  0.251078                  0.532817   \nP1-1-10                 0.145964                  0.246683   \nP1-1-11                 0.117390                  0.202265   \nP1-1-12                 0.143571                  0.427097   \n...                          ...                       ...   \nP1-99-4                -0.138567                 -0.132073   \nP1-99-5                -0.133104                 -0.137414   \nP1-99-6                -0.131065                 -0.134615   \nP1-99-7                -0.130829                 -0.135929   \nP1-99-8                -0.131371                 -0.135107   \n\n         velocity_onset_standardized  velocity_offset_standardized  \\\nP1-0-5                      0.918947                     -0.848752   \nP1-1-1                      1.306164                      2.336603   \nP1-1-10                     0.992984                     -0.523058   \nP1-1-11                     0.520083                     -0.681929   \nP1-1-12                     0.508893                      0.301511   \n...                              ...                           ...   \nP1-99-4                     0.402911                      0.390377   \nP1-99-5                     1.391434                      0.275600   \nP1-99-6                     0.145986                     -1.294837   \nP1-99-7                    -1.454349                      0.226273   \nP1-99-8                    -1.113202                      0.411390   \n\n         duration_standardized performer  \nP1-0-5                0.346522        p8  \nP1-1-1                1.770084        p8  \nP1-1-10               1.445022        p8  \nP1-1-11               0.414236        p8  \nP1-1-12               0.981600        p8  \n...                        ...       ...  \nP1-99-4               1.576119        p1  \nP1-99-5              -1.007807        p1  \nP1-99-6              -0.504155        p1  \nP1-99-7              -0.485643        p1  \nP1-99-8              -0.480867        p1  \n\n[73506 rows x 6 columns]",
      "text/html": "<div>\n<style scoped>\n    .dataframe tbody tr th:only-of-type {\n        vertical-align: middle;\n    }\n\n    .dataframe tbody tr th {\n        vertical-align: top;\n    }\n\n    .dataframe thead th {\n        text-align: right;\n    }\n</style>\n<table border=\"1\" class=\"dataframe\">\n  <thead>\n    <tr style=\"text-align: right;\">\n      <th></th>\n      <th>time_onset_standardized</th>\n      <th>time_offset_standardized</th>\n      <th>velocity_onset_standardized</th>\n      <th>velocity_offset_standardized</th>\n      <th>duration_standardized</th>\n      <th>performer</th>\n    </tr>\n  </thead>\n  <tbody>\n    <tr>\n      <th>P1-0-5</th>\n      <td>0.297720</td>\n      <td>0.401625</td>\n      <td>0.918947</td>\n      <td>-0.848752</td>\n      <td>0.346522</td>\n      <td>p8</td>\n    </tr>\n    <tr>\n      <th>P1-1-1</th>\n      <td>0.251078</td>\n      <td>0.532817</td>\n      <td>1.306164</td>\n      <td>2.336603</td>\n      <td>1.770084</td>\n      <td>p8</td>\n    </tr>\n    <tr>\n      <th>P1-1-10</th>\n      <td>0.145964</td>\n      <td>0.246683</td>\n      <td>0.992984</td>\n      <td>-0.523058</td>\n      <td>1.445022</td>\n      <td>p8</td>\n    </tr>\n    <tr>\n      <th>P1-1-11</th>\n      <td>0.117390</td>\n      <td>0.202265</td>\n      <td>0.520083</td>\n      <td>-0.681929</td>\n      <td>0.414236</td>\n      <td>p8</td>\n    </tr>\n    <tr>\n      <th>P1-1-12</th>\n      <td>0.143571</td>\n      <td>0.427097</td>\n      <td>0.508893</td>\n      <td>0.301511</td>\n      <td>0.981600</td>\n      <td>p8</td>\n    </tr>\n    <tr>\n      <th>...</th>\n      <td>...</td>\n      <td>...</td>\n      <td>...</td>\n      <td>...</td>\n      <td>...</td>\n      <td>...</td>\n    </tr>\n    <tr>\n      <th>P1-99-4</th>\n      <td>-0.138567</td>\n      <td>-0.132073</td>\n      <td>0.402911</td>\n      <td>0.390377</td>\n      <td>1.576119</td>\n      <td>p1</td>\n    </tr>\n    <tr>\n      <th>P1-99-5</th>\n      <td>-0.133104</td>\n      <td>-0.137414</td>\n      <td>1.391434</td>\n      <td>0.275600</td>\n      <td>-1.007807</td>\n      <td>p1</td>\n    </tr>\n    <tr>\n      <th>P1-99-6</th>\n      <td>-0.131065</td>\n      <td>-0.134615</td>\n      <td>0.145986</td>\n      <td>-1.294837</td>\n      <td>-0.504155</td>\n      <td>p1</td>\n    </tr>\n    <tr>\n      <th>P1-99-7</th>\n      <td>-0.130829</td>\n      <td>-0.135929</td>\n      <td>-1.454349</td>\n      <td>0.226273</td>\n      <td>-0.485643</td>\n      <td>p1</td>\n    </tr>\n    <tr>\n      <th>P1-99-8</th>\n      <td>-0.131371</td>\n      <td>-0.135107</td>\n      <td>-1.113202</td>\n      <td>0.411390</td>\n      <td>-0.480867</td>\n      <td>p1</td>\n    </tr>\n  </tbody>\n</table>\n<p>73506 rows × 6 columns</p>\n</div>"
     },
     "execution_count": 62,
     "metadata": {},
     "output_type": "execute_result"
    }
   ],
   "source": [
    "columns = ['time_onset', 'time_offset', 'velocity_onset', 'velocity_offset','duration']\n",
    "std_columns = [name + '_standardized' for name in columns]\n",
    "training_data = training_data[std_columns + ['performer']]\n",
    "training_data"
   ],
   "metadata": {
    "collapsed": false,
    "pycharm": {
     "name": "#%%\n"
    }
   }
  },
  {
   "cell_type": "code",
   "execution_count": 63,
   "outputs": [],
   "source": [
    "y = training_data['performer']\n",
    "mi = training_data.min()\n",
    "ma = training_data.max()\n",
    "bandwidth = 0.1\n",
    "n_samples = 100"
   ],
   "metadata": {
    "collapsed": false,
    "pycharm": {
     "name": "#%%\n"
    }
   }
  },
  {
   "cell_type": "code",
   "execution_count": 64,
   "outputs": [
    {
     "name": "stdout",
     "output_type": "stream",
     "text": [
      "p8\n",
      "p4\n",
      "p6\n",
      "p2\n",
      "p0\n",
      "p9\n",
      "p5\n",
      "p7\n",
      "p3\n",
      "p10\n",
      "p1\n"
     ]
    }
   ],
   "source": [
    "ds = []\n",
    "for performer in y.unique():\n",
    "    mask = training_data['performer'] == performer\n",
    "    data = training_data[mask]\n",
    "    performer_ds = []\n",
    "    print(performer)\n",
    "    for column in data.columns:\n",
    "        if column != 'performer':\n",
    "            X = data[column].dropna().to_numpy().reshape(-1,1)\n",
    "            kde = KernelDensity(kernel='gaussian', bandwidth=bandwidth).fit(X)\n",
    "            x = np.linspace(mi[column], ma[column], n_samples)\n",
    "            log = kde.score_samples(x.reshape(-1, 1))\n",
    "            performer_ds.append(np.exp(log))\n",
    "    ds.append(np.array(performer_ds))\n",
    "ds = np.array(ds)\n"
   ],
   "metadata": {
    "collapsed": false,
    "pycharm": {
     "name": "#%%\n"
    }
   }
  },
  {
   "cell_type": "code",
   "execution_count": 72,
   "outputs": [
    {
     "data": {
      "text/plain": "'p8'"
     },
     "execution_count": 72,
     "metadata": {},
     "output_type": "execute_result"
    }
   ],
   "source": [
    "test_performer = deviations_names[0].split('-')[0]\n",
    "data_path = os.path.join(deviations_path, test_performer + '-0.json')\n",
    "data = pd.read_json(data_path)\n",
    "test_data = data[:20]\n",
    "test_data = test_data[std_columns]\n",
    "test_performer"
   ],
   "metadata": {
    "collapsed": false,
    "pycharm": {
     "name": "#%%\n"
    }
   }
  },
  {
   "cell_type": "code",
   "execution_count": 73,
   "outputs": [],
   "source": [
    "test_ds = []\n",
    "for column in test_data.columns:\n",
    "    X = data[column].dropna().to_numpy().reshape(-1,1)\n",
    "    kde = KernelDensity(kernel='gaussian', bandwidth=bandwidth).fit(X)\n",
    "    x = np.linspace(mi[column], ma[column], n_samples)\n",
    "    log = kde.score_samples(x.reshape(-1, 1))\n",
    "    test_ds.append(np.exp(log))\n",
    "test_ds = np.array(test_ds)"
   ],
   "metadata": {
    "collapsed": false,
    "pycharm": {
     "name": "#%%\n"
    }
   }
  },
  {
   "cell_type": "code",
   "execution_count": 74,
   "outputs": [
    {
     "data": {
      "text/plain": "[[0.0, 0.0, 0.0, 0.0, 0.0],\n [2.3029495193126603,\n  2.3006265043459875,\n  0.16756758823638102,\n  0.10836309693599945,\n  0.05390795836005323],\n [4.115905669975254,\n  4.183389059349215,\n  0.07270703102610963,\n  0.01016908806608825,\n  0.26681588230885667],\n [0.6343564935720335,\n  0.616597622969336,\n  0.0684634005907207,\n  0.05788223489070349,\n  0.0400646942918585],\n [7.357517864369885,\n  6.444772160852242,\n  0.20160621358520675,\n  0.011243467226391777,\n  0.13607489587021657],\n [0.5712352658307402,\n  0.5536894322859465,\n  0.056536772741936483,\n  0.03583085125230707,\n  0.06277661175472128],\n [0.48645024468860426,\n  0.4705819000810854,\n  0.018073775986556302,\n  0.035436788465685994,\n  0.029118047702749852],\n [1.5867242568379671,\n  1.5713008037411746,\n  0.07510260883450977,\n  0.010118109016032639,\n  0.05596976320701887],\n [4.577264005949836,\n  4.766343863259529,\n  0.3703095756056464,\n  0.02236063092810903,\n  0.21088019584080303],\n [0.8679396679326177,\n  0.8527009746837493,\n  0.24032427635942658,\n  0.07324085579495705,\n  0.03886302342944439],\n [2.1079936794389043,\n  2.126922197417718,\n  0.26773261766647144,\n  0.03472359414559514,\n  0.3352216293509803]]"
     },
     "execution_count": 74,
     "metadata": {},
     "output_type": "execute_result"
    }
   ],
   "source": [
    "entropies = [[scipy.stats.entropy(test_ds[i], performer[i]) for i in range(len(test_ds))] for performer in ds]\n",
    "entropies"
   ],
   "metadata": {
    "collapsed": false,
    "pycharm": {
     "name": "#%%\n"
    }
   }
  },
  {
   "cell_type": "code",
   "execution_count": 75,
   "outputs": [
    {
     "data": {
      "text/plain": "[0.0,\n 4.933414667191082,\n 8.648986730725523,\n 1.4173644463146524,\n 14.151214601903941,\n 1.2800689338656517,\n 1.039660756924682,\n 3.2992155416367033,\n 9.947158271583922,\n 2.073068798200195,\n 4.872593718019669]"
     },
     "execution_count": 75,
     "metadata": {},
     "output_type": "execute_result"
    }
   ],
   "source": [
    "summed = [sum(e) for e in entropies]\n",
    "summed"
   ],
   "metadata": {
    "collapsed": false,
    "pycharm": {
     "name": "#%%\n"
    }
   }
  },
  {
   "cell_type": "code",
   "execution_count": 76,
   "outputs": [
    {
     "data": {
      "text/plain": "'p8'"
     },
     "execution_count": 76,
     "metadata": {},
     "output_type": "execute_result"
    }
   ],
   "source": [
    "index = np.argmin(np.array(summed))\n",
    "classified_performer = y[index]\n",
    "classified_performer"
   ],
   "metadata": {
    "collapsed": false,
    "pycharm": {
     "name": "#%%\n"
    }
   }
  }
 ],
 "metadata": {
  "kernelspec": {
   "display_name": "Python 3",
   "language": "python",
   "name": "python3"
  },
  "language_info": {
   "codemirror_mode": {
    "name": "ipython",
    "version": 2
   },
   "file_extension": ".py",
   "mimetype": "text/x-python",
   "name": "python",
   "nbconvert_exporter": "python",
   "pygments_lexer": "ipython2",
   "version": "2.7.6"
  }
 },
 "nbformat": 4,
 "nbformat_minor": 0
}