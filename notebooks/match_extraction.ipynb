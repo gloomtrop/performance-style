{
 "cells": [
  {
   "cell_type": "code",
   "execution_count": 3,
   "metadata": {
    "collapsed": true
   },
   "outputs": [],
   "source": [
    "import pandas as pd\n",
    "from utils import paths\n",
    "import os"
   ]
  },
  {
   "cell_type": "code",
   "execution_count": 4,
   "outputs": [],
   "source": [
    "file_name = 'p0-0_match.txt'\n",
    "file_path = os.path.join(paths.get_root_folder(),'data','schubert','match',file_name)"
   ],
   "metadata": {
    "collapsed": false,
    "pycharm": {
     "name": "#%%\n"
    }
   }
  },
  {
   "cell_type": "code",
   "execution_count": 6,
   "outputs": [],
   "source": [
    "lines = []\n",
    "with open(file_path) as f:\n",
    "    lines = f.readlines()"
   ],
   "metadata": {
    "collapsed": false,
    "pycharm": {
     "name": "#%%\n"
    }
   }
  },
  {
   "cell_type": "code",
   "execution_count": 19,
   "outputs": [],
   "source": [
    "notes = []\n",
    "for line in lines:\n",
    "    if '//' not in line:\n",
    "        data = line.split('\\t')\n",
    "        notes.append(data)"
   ],
   "metadata": {
    "collapsed": false,
    "pycharm": {
     "name": "#%%\n"
    }
   }
  },
  {
   "cell_type": "code",
   "execution_count": 34,
   "outputs": [
    {
     "data": {
      "text/plain": "          id   time_onset  time_offset pitch  velocity_onset  velocity_offset  \\\n0          0     0.519497     1.081730    D3              35               34   \n1          1     0.531517     1.032317   Bb2              37               43   \n2          2     0.543536     0.958867    F4              23               33   \n3          3     0.567574     0.941505   Bb4              48               53   \n4          4     0.614316     0.953525   Bb3              28               39   \n...      ...          ...          ...   ...             ...              ...   \n10390  10390  1146.443832  1152.420055    D3              10               41   \n10391  10391  1146.450510  1148.706116   Bb2              26                6   \n10392  10392  1146.454516  1152.405365    F3              18               43   \n10393  10393  1146.455851  1152.429403   Bb3              28               37   \n10394  10394  1146.469206  1152.349275   Bb1              20               38   \n\n       channel  match_status  time_score   note_id  error_index skip_index  \n0            0             0           0         *            3        0\\n  \n1            0             0           0         *            3        -\\n  \n2            0             0           0         *            3        -\\n  \n3            0             0           0         *            3        -\\n  \n4            0             0           0         *            3        -\\n  \n...        ...           ...         ...       ...          ...        ...  \n10390        0             0       69888  P1-366-2            0        -\\n  \n10391        0             0       69888  P1-366-1            0        -\\n  \n10392        0             0       69888  P1-366-3            0        -\\n  \n10393        0             0       69888  P1-366-4            0        -\\n  \n10394        0             0       69888  P1-366-5            0        -\\n  \n\n[10395 rows x 12 columns]",
      "text/html": "<div>\n<style scoped>\n    .dataframe tbody tr th:only-of-type {\n        vertical-align: middle;\n    }\n\n    .dataframe tbody tr th {\n        vertical-align: top;\n    }\n\n    .dataframe thead th {\n        text-align: right;\n    }\n</style>\n<table border=\"1\" class=\"dataframe\">\n  <thead>\n    <tr style=\"text-align: right;\">\n      <th></th>\n      <th>id</th>\n      <th>time_onset</th>\n      <th>time_offset</th>\n      <th>pitch</th>\n      <th>velocity_onset</th>\n      <th>velocity_offset</th>\n      <th>channel</th>\n      <th>match_status</th>\n      <th>time_score</th>\n      <th>note_id</th>\n      <th>error_index</th>\n      <th>skip_index</th>\n    </tr>\n  </thead>\n  <tbody>\n    <tr>\n      <th>0</th>\n      <td>0</td>\n      <td>0.519497</td>\n      <td>1.081730</td>\n      <td>D3</td>\n      <td>35</td>\n      <td>34</td>\n      <td>0</td>\n      <td>0</td>\n      <td>0</td>\n      <td>*</td>\n      <td>3</td>\n      <td>0\\n</td>\n    </tr>\n    <tr>\n      <th>1</th>\n      <td>1</td>\n      <td>0.531517</td>\n      <td>1.032317</td>\n      <td>Bb2</td>\n      <td>37</td>\n      <td>43</td>\n      <td>0</td>\n      <td>0</td>\n      <td>0</td>\n      <td>*</td>\n      <td>3</td>\n      <td>-\\n</td>\n    </tr>\n    <tr>\n      <th>2</th>\n      <td>2</td>\n      <td>0.543536</td>\n      <td>0.958867</td>\n      <td>F4</td>\n      <td>23</td>\n      <td>33</td>\n      <td>0</td>\n      <td>0</td>\n      <td>0</td>\n      <td>*</td>\n      <td>3</td>\n      <td>-\\n</td>\n    </tr>\n    <tr>\n      <th>3</th>\n      <td>3</td>\n      <td>0.567574</td>\n      <td>0.941505</td>\n      <td>Bb4</td>\n      <td>48</td>\n      <td>53</td>\n      <td>0</td>\n      <td>0</td>\n      <td>0</td>\n      <td>*</td>\n      <td>3</td>\n      <td>-\\n</td>\n    </tr>\n    <tr>\n      <th>4</th>\n      <td>4</td>\n      <td>0.614316</td>\n      <td>0.953525</td>\n      <td>Bb3</td>\n      <td>28</td>\n      <td>39</td>\n      <td>0</td>\n      <td>0</td>\n      <td>0</td>\n      <td>*</td>\n      <td>3</td>\n      <td>-\\n</td>\n    </tr>\n    <tr>\n      <th>...</th>\n      <td>...</td>\n      <td>...</td>\n      <td>...</td>\n      <td>...</td>\n      <td>...</td>\n      <td>...</td>\n      <td>...</td>\n      <td>...</td>\n      <td>...</td>\n      <td>...</td>\n      <td>...</td>\n      <td>...</td>\n    </tr>\n    <tr>\n      <th>10390</th>\n      <td>10390</td>\n      <td>1146.443832</td>\n      <td>1152.420055</td>\n      <td>D3</td>\n      <td>10</td>\n      <td>41</td>\n      <td>0</td>\n      <td>0</td>\n      <td>69888</td>\n      <td>P1-366-2</td>\n      <td>0</td>\n      <td>-\\n</td>\n    </tr>\n    <tr>\n      <th>10391</th>\n      <td>10391</td>\n      <td>1146.450510</td>\n      <td>1148.706116</td>\n      <td>Bb2</td>\n      <td>26</td>\n      <td>6</td>\n      <td>0</td>\n      <td>0</td>\n      <td>69888</td>\n      <td>P1-366-1</td>\n      <td>0</td>\n      <td>-\\n</td>\n    </tr>\n    <tr>\n      <th>10392</th>\n      <td>10392</td>\n      <td>1146.454516</td>\n      <td>1152.405365</td>\n      <td>F3</td>\n      <td>18</td>\n      <td>43</td>\n      <td>0</td>\n      <td>0</td>\n      <td>69888</td>\n      <td>P1-366-3</td>\n      <td>0</td>\n      <td>-\\n</td>\n    </tr>\n    <tr>\n      <th>10393</th>\n      <td>10393</td>\n      <td>1146.455851</td>\n      <td>1152.429403</td>\n      <td>Bb3</td>\n      <td>28</td>\n      <td>37</td>\n      <td>0</td>\n      <td>0</td>\n      <td>69888</td>\n      <td>P1-366-4</td>\n      <td>0</td>\n      <td>-\\n</td>\n    </tr>\n    <tr>\n      <th>10394</th>\n      <td>10394</td>\n      <td>1146.469206</td>\n      <td>1152.349275</td>\n      <td>Bb1</td>\n      <td>20</td>\n      <td>38</td>\n      <td>0</td>\n      <td>0</td>\n      <td>69888</td>\n      <td>P1-366-5</td>\n      <td>0</td>\n      <td>-\\n</td>\n    </tr>\n  </tbody>\n</table>\n<p>10395 rows × 12 columns</p>\n</div>"
     },
     "execution_count": 34,
     "metadata": {},
     "output_type": "execute_result"
    }
   ],
   "source": [
    "column_names = ['id', 'time_onset', 'time_offset', 'pitch', 'velocity_onset', 'velocity_offset', 'channel', 'match_status','time_score', 'note_id', 'error_index', 'skip_index']\n",
    "notes_df = pd.DataFrame(notes, columns=column_names)\n",
    "notes_df = notes_df.astype({\n",
    "    'id':int,\n",
    "    'time_onset':float,\n",
    "    'time_offset':float,\n",
    "    'pitch':str,\n",
    "    'velocity_onset':int,\n",
    "    'velocity_offset':int,\n",
    "    'channel': int,\n",
    "    'match_status':int,\n",
    "    'time_score':int,\n",
    "    'note_id': str,\n",
    "    'error_index':int,\n",
    "    'skip_index':str\n",
    "})\n",
    "notes_df"
   ],
   "metadata": {
    "collapsed": false,
    "pycharm": {
     "name": "#%%\n"
    }
   }
  },
  {
   "cell_type": "code",
   "execution_count": 36,
   "outputs": [
    {
     "data": {
      "text/plain": "0        0.562233\n1        0.500800\n2        0.415331\n3        0.373931\n4        0.339209\n           ...   \n10390    5.976223\n10391    2.255606\n10392    5.950849\n10393    5.973552\n10394    5.880069\nName: duration, Length: 10395, dtype: float64"
     },
     "execution_count": 36,
     "metadata": {},
     "output_type": "execute_result"
    }
   ],
   "source": [
    "notes_df['duration'] = notes_df['time_offset'] - notes_df['time_onset']\n",
    "notes_df['duration']"
   ],
   "metadata": {
    "collapsed": false,
    "pycharm": {
     "name": "#%%\n"
    }
   }
  },
  {
   "cell_type": "code",
   "execution_count": 39,
   "outputs": [
    {
     "data": {
      "text/plain": "         id   time_onset  time_offset pitch  velocity_onset  velocity_offset  \\\n0         5     0.988247     1.438300    F3              37               53   \n1         6     1.379539     1.645298   Bb4              58               66   \n2         7     1.386217     1.733438    D3              43               53   \n3         8     1.388888     1.789528    F4              42               37   \n4         9     1.422274     1.710735   Bb2              36               42   \n...     ...          ...          ...   ...             ...              ...   \n6773  10390  1146.443832  1152.420055    D3              10               41   \n6774  10391  1146.450510  1148.706116   Bb2              26                6   \n6775  10392  1146.454516  1152.405365    F3              18               43   \n6776  10393  1146.455851  1152.429403   Bb3              28               37   \n6777  10394  1146.469206  1152.349275   Bb1              20               38   \n\n      channel  match_status  time_score   note_id  error_index skip_index  \\\n0           0             0          24    P1-0-5            0        -\\n   \n1           0             0          48    P1-1-3            0        -\\n   \n2           0             0          48   P1-1-13            0        -\\n   \n3           0             0          48    P1-1-2            0        -\\n   \n4           0             0          48   P1-1-21            0        -\\n   \n...       ...           ...         ...       ...          ...        ...   \n6773        0             0       69888  P1-366-2            0        -\\n   \n6774        0             0       69888  P1-366-1            0        -\\n   \n6775        0             0       69888  P1-366-3            0        -\\n   \n6776        0             0       69888  P1-366-4            0        -\\n   \n6777        0             0       69888  P1-366-5            0        -\\n   \n\n      duration  \n0     0.450053  \n1     0.265759  \n2     0.347221  \n3     0.400640  \n4     0.288461  \n...        ...  \n6773  5.976223  \n6774  2.255606  \n6775  5.950849  \n6776  5.973552  \n6777  5.880069  \n\n[6778 rows x 13 columns]",
      "text/html": "<div>\n<style scoped>\n    .dataframe tbody tr th:only-of-type {\n        vertical-align: middle;\n    }\n\n    .dataframe tbody tr th {\n        vertical-align: top;\n    }\n\n    .dataframe thead th {\n        text-align: right;\n    }\n</style>\n<table border=\"1\" class=\"dataframe\">\n  <thead>\n    <tr style=\"text-align: right;\">\n      <th></th>\n      <th>id</th>\n      <th>time_onset</th>\n      <th>time_offset</th>\n      <th>pitch</th>\n      <th>velocity_onset</th>\n      <th>velocity_offset</th>\n      <th>channel</th>\n      <th>match_status</th>\n      <th>time_score</th>\n      <th>note_id</th>\n      <th>error_index</th>\n      <th>skip_index</th>\n      <th>duration</th>\n    </tr>\n  </thead>\n  <tbody>\n    <tr>\n      <th>0</th>\n      <td>5</td>\n      <td>0.988247</td>\n      <td>1.438300</td>\n      <td>F3</td>\n      <td>37</td>\n      <td>53</td>\n      <td>0</td>\n      <td>0</td>\n      <td>24</td>\n      <td>P1-0-5</td>\n      <td>0</td>\n      <td>-\\n</td>\n      <td>0.450053</td>\n    </tr>\n    <tr>\n      <th>1</th>\n      <td>6</td>\n      <td>1.379539</td>\n      <td>1.645298</td>\n      <td>Bb4</td>\n      <td>58</td>\n      <td>66</td>\n      <td>0</td>\n      <td>0</td>\n      <td>48</td>\n      <td>P1-1-3</td>\n      <td>0</td>\n      <td>-\\n</td>\n      <td>0.265759</td>\n    </tr>\n    <tr>\n      <th>2</th>\n      <td>7</td>\n      <td>1.386217</td>\n      <td>1.733438</td>\n      <td>D3</td>\n      <td>43</td>\n      <td>53</td>\n      <td>0</td>\n      <td>0</td>\n      <td>48</td>\n      <td>P1-1-13</td>\n      <td>0</td>\n      <td>-\\n</td>\n      <td>0.347221</td>\n    </tr>\n    <tr>\n      <th>3</th>\n      <td>8</td>\n      <td>1.388888</td>\n      <td>1.789528</td>\n      <td>F4</td>\n      <td>42</td>\n      <td>37</td>\n      <td>0</td>\n      <td>0</td>\n      <td>48</td>\n      <td>P1-1-2</td>\n      <td>0</td>\n      <td>-\\n</td>\n      <td>0.400640</td>\n    </tr>\n    <tr>\n      <th>4</th>\n      <td>9</td>\n      <td>1.422274</td>\n      <td>1.710735</td>\n      <td>Bb2</td>\n      <td>36</td>\n      <td>42</td>\n      <td>0</td>\n      <td>0</td>\n      <td>48</td>\n      <td>P1-1-21</td>\n      <td>0</td>\n      <td>-\\n</td>\n      <td>0.288461</td>\n    </tr>\n    <tr>\n      <th>...</th>\n      <td>...</td>\n      <td>...</td>\n      <td>...</td>\n      <td>...</td>\n      <td>...</td>\n      <td>...</td>\n      <td>...</td>\n      <td>...</td>\n      <td>...</td>\n      <td>...</td>\n      <td>...</td>\n      <td>...</td>\n      <td>...</td>\n    </tr>\n    <tr>\n      <th>6773</th>\n      <td>10390</td>\n      <td>1146.443832</td>\n      <td>1152.420055</td>\n      <td>D3</td>\n      <td>10</td>\n      <td>41</td>\n      <td>0</td>\n      <td>0</td>\n      <td>69888</td>\n      <td>P1-366-2</td>\n      <td>0</td>\n      <td>-\\n</td>\n      <td>5.976223</td>\n    </tr>\n    <tr>\n      <th>6774</th>\n      <td>10391</td>\n      <td>1146.450510</td>\n      <td>1148.706116</td>\n      <td>Bb2</td>\n      <td>26</td>\n      <td>6</td>\n      <td>0</td>\n      <td>0</td>\n      <td>69888</td>\n      <td>P1-366-1</td>\n      <td>0</td>\n      <td>-\\n</td>\n      <td>2.255606</td>\n    </tr>\n    <tr>\n      <th>6775</th>\n      <td>10392</td>\n      <td>1146.454516</td>\n      <td>1152.405365</td>\n      <td>F3</td>\n      <td>18</td>\n      <td>43</td>\n      <td>0</td>\n      <td>0</td>\n      <td>69888</td>\n      <td>P1-366-3</td>\n      <td>0</td>\n      <td>-\\n</td>\n      <td>5.950849</td>\n    </tr>\n    <tr>\n      <th>6776</th>\n      <td>10393</td>\n      <td>1146.455851</td>\n      <td>1152.429403</td>\n      <td>Bb3</td>\n      <td>28</td>\n      <td>37</td>\n      <td>0</td>\n      <td>0</td>\n      <td>69888</td>\n      <td>P1-366-4</td>\n      <td>0</td>\n      <td>-\\n</td>\n      <td>5.973552</td>\n    </tr>\n    <tr>\n      <th>6777</th>\n      <td>10394</td>\n      <td>1146.469206</td>\n      <td>1152.349275</td>\n      <td>Bb1</td>\n      <td>20</td>\n      <td>38</td>\n      <td>0</td>\n      <td>0</td>\n      <td>69888</td>\n      <td>P1-366-5</td>\n      <td>0</td>\n      <td>-\\n</td>\n      <td>5.880069</td>\n    </tr>\n  </tbody>\n</table>\n<p>6778 rows × 13 columns</p>\n</div>"
     },
     "execution_count": 39,
     "metadata": {},
     "output_type": "execute_result"
    }
   ],
   "source": [
    "unmatched = notes_df['note_id']=='*'\n",
    "matched_notes = notes_df[~unmatched].reset_index(drop=True)\n",
    "matched_notes"
   ],
   "metadata": {
    "collapsed": false,
    "pycharm": {
     "name": "#%%\n"
    }
   }
  }
 ],
 "metadata": {
  "kernelspec": {
   "display_name": "Python 3",
   "language": "python",
   "name": "python3"
  },
  "language_info": {
   "codemirror_mode": {
    "name": "ipython",
    "version": 2
   },
   "file_extension": ".py",
   "mimetype": "text/x-python",
   "name": "python",
   "nbconvert_exporter": "python",
   "pygments_lexer": "ipython2",
   "version": "2.7.6"
  }
 },
 "nbformat": 4,
 "nbformat_minor": 0
}