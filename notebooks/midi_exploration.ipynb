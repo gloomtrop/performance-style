{
 "cells": [
  {
   "cell_type": "code",
   "execution_count": 32,
   "metadata": {
    "collapsed": true
   },
   "outputs": [],
   "source": [
    "from utils import paths\n",
    "import mido\n",
    "import os\n",
    "import pandas as pd"
   ]
  },
  {
   "cell_type": "code",
   "execution_count": 39,
   "outputs": [
    {
     "data": {
      "text/plain": "'/Users/batman/git/performance-style/data/schubert/D960/p3-0.MID'"
     },
     "execution_count": 39,
     "metadata": {},
     "output_type": "execute_result"
    }
   ],
   "source": [
    "d960_folder = os.path.join(paths.get_root_folder(), 'data', 'schubert','D960')\n",
    "file_name = 'p3-0.MID'\n",
    "file_path = os.path.join(d960_folder, file_name)\n",
    "file_path"
   ],
   "metadata": {
    "collapsed": false,
    "pycharm": {
     "name": "#%%\n"
    }
   }
  },
  {
   "cell_type": "code",
   "execution_count": 40,
   "outputs": [
    {
     "data": {
      "text/plain": "           type  channel  note  velocity      time\n0       note_on        0    70        42  0.125534\n1       note_on        0    58        29  0.006677\n2       note_on        0    65        33  0.020032\n3       note_on        0    46        32  0.000000\n4       note_on        0    50        25  0.002671\n...         ...      ...   ...       ...       ...\n21175  note_off        0    58        36  5.275102\n21176  note_off        0    53        38  0.008013\n21177  note_off        0    50        36  0.001335\n21178  note_off        0    46        30  0.016026\n21179  note_off        0    34        33  0.002671\n\n[21180 rows x 5 columns]",
      "text/html": "<div>\n<style scoped>\n    .dataframe tbody tr th:only-of-type {\n        vertical-align: middle;\n    }\n\n    .dataframe tbody tr th {\n        vertical-align: top;\n    }\n\n    .dataframe thead th {\n        text-align: right;\n    }\n</style>\n<table border=\"1\" class=\"dataframe\">\n  <thead>\n    <tr style=\"text-align: right;\">\n      <th></th>\n      <th>type</th>\n      <th>channel</th>\n      <th>note</th>\n      <th>velocity</th>\n      <th>time</th>\n    </tr>\n  </thead>\n  <tbody>\n    <tr>\n      <th>0</th>\n      <td>note_on</td>\n      <td>0</td>\n      <td>70</td>\n      <td>42</td>\n      <td>0.125534</td>\n    </tr>\n    <tr>\n      <th>1</th>\n      <td>note_on</td>\n      <td>0</td>\n      <td>58</td>\n      <td>29</td>\n      <td>0.006677</td>\n    </tr>\n    <tr>\n      <th>2</th>\n      <td>note_on</td>\n      <td>0</td>\n      <td>65</td>\n      <td>33</td>\n      <td>0.020032</td>\n    </tr>\n    <tr>\n      <th>3</th>\n      <td>note_on</td>\n      <td>0</td>\n      <td>46</td>\n      <td>32</td>\n      <td>0.000000</td>\n    </tr>\n    <tr>\n      <th>4</th>\n      <td>note_on</td>\n      <td>0</td>\n      <td>50</td>\n      <td>25</td>\n      <td>0.002671</td>\n    </tr>\n    <tr>\n      <th>...</th>\n      <td>...</td>\n      <td>...</td>\n      <td>...</td>\n      <td>...</td>\n      <td>...</td>\n    </tr>\n    <tr>\n      <th>21175</th>\n      <td>note_off</td>\n      <td>0</td>\n      <td>58</td>\n      <td>36</td>\n      <td>5.275102</td>\n    </tr>\n    <tr>\n      <th>21176</th>\n      <td>note_off</td>\n      <td>0</td>\n      <td>53</td>\n      <td>38</td>\n      <td>0.008013</td>\n    </tr>\n    <tr>\n      <th>21177</th>\n      <td>note_off</td>\n      <td>0</td>\n      <td>50</td>\n      <td>36</td>\n      <td>0.001335</td>\n    </tr>\n    <tr>\n      <th>21178</th>\n      <td>note_off</td>\n      <td>0</td>\n      <td>46</td>\n      <td>30</td>\n      <td>0.016026</td>\n    </tr>\n    <tr>\n      <th>21179</th>\n      <td>note_off</td>\n      <td>0</td>\n      <td>34</td>\n      <td>33</td>\n      <td>0.002671</td>\n    </tr>\n  </tbody>\n</table>\n<p>21180 rows × 5 columns</p>\n</div>"
     },
     "execution_count": 40,
     "metadata": {},
     "output_type": "execute_result"
    }
   ],
   "source": [
    "midi_types = ['note_on', 'note_off']\n",
    "notes = []\n",
    "column_names = ['type', 'channel', 'note', 'velocity', 'time']\n",
    "midi = mido.MidiFile(file_path)\n",
    "for msg in midi:\n",
    "    if msg.type in midi_types:\n",
    "        notes.append([msg.type, msg.channel, msg.note, msg.velocity, msg.time])\n",
    "\n",
    "notes_df = pd.DataFrame(notes, columns=column_names)\n",
    "notes_df"
   ],
   "metadata": {
    "collapsed": false,
    "pycharm": {
     "name": "#%%\n"
    }
   }
  }
 ],
 "metadata": {
  "kernelspec": {
   "display_name": "Python 3",
   "language": "python",
   "name": "python3"
  },
  "language_info": {
   "codemirror_mode": {
    "name": "ipython",
    "version": 2
   },
   "file_extension": ".py",
   "mimetype": "text/x-python",
   "name": "python",
   "nbconvert_exporter": "python",
   "pygments_lexer": "ipython2",
   "version": "2.7.6"
  }
 },
 "nbformat": 4,
 "nbformat_minor": 0
}