{
 "cells": [
  {
   "cell_type": "code",
   "execution_count": 1,
   "metadata": {
    "collapsed": true
   },
   "outputs": [],
   "source": [
    "import pandas as pd\n",
    "from utils import paths\n",
    "import os"
   ]
  },
  {
   "cell_type": "code",
   "execution_count": 2,
   "outputs": [],
   "source": [
    "folder_path = os.path.join(paths.get_root_folder(), 'data', 'maestro')\n",
    "file = 'maestro-v3.0.0.json'\n",
    "\n",
    "file_path = os.path.join(folder_path, file)"
   ],
   "metadata": {
    "collapsed": false,
    "pycharm": {
     "name": "#%%\n"
    }
   }
  },
  {
   "cell_type": "code",
   "execution_count": 9,
   "outputs": [
    {
     "data": {
      "text/plain": "0       [2018, MIDI-Unprocessed, Chamber3, MID--AUDIO,...\n1       [2008, MIDI-Unprocessed, 03, R2, 2008, 01-03, ...\n2       [2017, MIDI-Unprocessed, 066, PIANO066, MID--A...\n3       [2004, MIDI-Unprocessed, XP, 21, R1, 2004, 01,...\n4       [2006, MIDI-Unprocessed, 17, R1, 2006, 01-06, ...\n                              ...                        \n1271    [2004, MIDI-Unprocessed, XP, 14, R1, 2004, 04,...\n1272    [2004, MIDI-Unprocessed, XP, 14, R1, 2004, 04,...\n1273    [2004, MIDI-Unprocessed, SMF, 12, 01, 2004, 01...\n1274    [2018, MIDI-Unprocessed, Recital17-19, MID--AU...\n1275    [2004, MIDI-Unprocessed, XP, 04, R1, 2004, 01-...\nLength: 1276, dtype: object"
     },
     "execution_count": 9,
     "metadata": {},
     "output_type": "execute_result"
    }
   ],
   "source": [
    "file_df = pd.read_json(file_path)\n",
    "file_df.apply(lambda x: x['midi_filename'].replace('/', '_').split('_'), axis=1)"
   ],
   "metadata": {
    "collapsed": false,
    "pycharm": {
     "name": "#%%\n"
    }
   }
  },
  {
   "cell_type": "code",
   "execution_count": 19,
   "outputs": [
    {
     "data": {
      "text/plain": "0       [Chamber3, MID--AUDIO, 10, R3, 2018, wav--1.midi]\n1       [03, R2, 2008, 01-03, ORIG, MID--AUDIO, 03, R2...\n2       [066, PIANO066, MID--AUDIO-split, 07-07-17, Pi...\n3       [XP, 21, R1, 2004, 01, ORIG, MID--AUDIO, 21, R...\n4       [17, R1, 2006, 01-06, ORIG, MID--AUDIO, 17, R1...\n                              ...                        \n1271    [XP, 14, R1, 2004, 04, ORIG, MID--AUDIO, 14, R...\n1272    [XP, 14, R1, 2004, 04, ORIG, MID--AUDIO, 14, R...\n1273    [SMF, 12, 01, 2004, 01-05, ORIG, MID--AUDIO, 1...\n1274    [Recital17-19, MID--AUDIO, 17, R1, 2018, wav--...\n1275    [XP, 04, R1, 2004, 01-02, ORIG, MID--AUDIO, 04...\nLength: 1276, dtype: object"
     },
     "execution_count": 19,
     "metadata": {},
     "output_type": "execute_result"
    }
   ],
   "source": [
    "years = file_df.apply(lambda x: x['midi_filename'].replace('/', '_').split('_')[2:], axis=1)\n",
    "years"
   ],
   "metadata": {
    "collapsed": false,
    "pycharm": {
     "name": "#%%\n"
    }
   }
  },
  {
   "cell_type": "code",
   "execution_count": 24,
   "outputs": [
    {
     "data": {
      "text/plain": "Thirty-Two Variations in C Minor, WoO 80                18\nSonata in C Minor, D958                                 14\nVariations Serieuses, Op. 54                            14\nSonata in B-flat Major, D960                            10\nBallade No. 1 in G Minor, Op. 23                        10\n                                                        ..\nSonata No. 3 in B Minor, Op. 58, 1st mov.                1\nSonata No. 3 in B Minor, Op. 58, I. Allegro maestoso     1\nSonata in B Minor, Op. 58                                1\nSonata in D Major, K. 118                                1\nTwelve Variations, K179 (189a)                           1\nName: canonical_title, Length: 854, dtype: int64"
     },
     "execution_count": 24,
     "metadata": {},
     "output_type": "execute_result"
    }
   ],
   "source": [
    "file_df['canonical_title'].value_counts()"
   ],
   "metadata": {
    "collapsed": false,
    "pycharm": {
     "name": "#%%\n"
    }
   }
  },
  {
   "cell_type": "code",
   "execution_count": 30,
   "outputs": [
    {
     "name": "stdout",
     "output_type": "stream",
     "text": [
      "['2004/MIDI-Unprocessed_XP_06_R2_2004_01_ORIG_MID--AUDIO_06_R2_2004_01_Track01_wav.midi'\n",
      " '2004/MIDI-Unprocessed_XP_06_R2_2004_01_ORIG_MID--AUDIO_06_R2_2004_02_Track02_wav.midi'\n",
      " '2004/MIDI-Unprocessed_XP_06_R2_2004_01_ORIG_MID--AUDIO_06_R2_2004_03_Track03_wav.midi'\n",
      " '2004/MIDI-Unprocessed_XP_19_R2_2004_01_ORIG_MID--AUDIO_19_R2_2004_01_Track01_wav.midi'\n",
      " '2004/MIDI-Unprocessed_XP_19_R2_2004_01_ORIG_MID--AUDIO_19_R2_2004_02_Track02_wav.midi'\n",
      " '2004/MIDI-Unprocessed_XP_19_R2_2004_01_ORIG_MID--AUDIO_19_R2_2004_03_Track03_wav.midi'\n",
      " '2004/MIDI-Unprocessed_XP_22_R2_2004_01_ORIG_MID--AUDIO_22_R2_2004_01_Track01_wav.midi'\n",
      " '2004/MIDI-Unprocessed_XP_22_R2_2004_01_ORIG_MID--AUDIO_22_R2_2004_02_Track02_wav.midi'\n",
      " '2004/MIDI-Unprocessed_XP_22_R2_2004_01_ORIG_MID--AUDIO_22_R2_2004_03_Track03_wav.midi'\n",
      " '2004/MIDI-Unprocessed_XP_22_R2_2004_01_ORIG_MID--AUDIO_22_R2_2004_04_Track04_wav.midi'\n",
      " '2018/MIDI-Unprocessed_Schubert1-3_MID--AUDIO_05_R2_2018_wav.midi'\n",
      " '2018/MIDI-Unprocessed_Schubert4-6_MID--AUDIO_08_R2_2018_wav.midi'\n",
      " '2018/MIDI-Unprocessed_Schubert7-9_MID--AUDIO_11_R2_2018_wav.midi'\n",
      " '2018/MIDI-Unprocessed_Schubert7-9_MID--AUDIO_16_R2_2018_wav.midi']\n"
     ]
    }
   ],
   "source": [
    "piece = file_df[file_df['canonical_title']=='Sonata in C Minor, D958']\n",
    "midi_names = piece['midi_filename'].to_numpy()\n",
    "\n",
    "print(midi_names)"
   ],
   "metadata": {
    "collapsed": false,
    "pycharm": {
     "name": "#%%\n"
    }
   }
  }
 ],
 "metadata": {
  "kernelspec": {
   "display_name": "Python 3",
   "language": "python",
   "name": "python3"
  },
  "language_info": {
   "codemirror_mode": {
    "name": "ipython",
    "version": 2
   },
   "file_extension": ".py",
   "mimetype": "text/x-python",
   "name": "python",
   "nbconvert_exporter": "python",
   "pygments_lexer": "ipython2",
   "version": "2.7.6"
  }
 },
 "nbformat": 4,
 "nbformat_minor": 0
}