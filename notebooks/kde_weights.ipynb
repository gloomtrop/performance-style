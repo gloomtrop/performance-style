{
 "cells": [
  {
   "cell_type": "code",
   "execution_count": 1,
   "metadata": {
    "collapsed": true
   },
   "outputs": [],
   "source": [
    "import numpy as np\n",
    "\n",
    "from models.data_loader import load_split\n",
    "from models.statistical import KDE_classifier\n",
    "from sklearn.metrics import accuracy_score, confusion_matrix\n",
    "import matplotlib.pyplot as plt\n",
    "import seaborn as sn\n",
    "import pandas as pd\n",
    "from utils.testing import test_classifier, compute_accuracy"
   ]
  },
  {
   "cell_type": "code",
   "execution_count": 14,
   "outputs": [],
   "source": [
    "PERFORMERS = [f'p{i}' for i in range(11)]\n",
    "\n",
    "bandwidth = 0.1\n",
    "n_samples = 100\n",
    "weights = np.array([1,1,1,1,1,1,1])\n"
   ],
   "metadata": {
    "collapsed": false,
    "pycharm": {
     "name": "#%%\n"
    }
   }
  },
  {
   "cell_type": "code",
   "execution_count": 3,
   "outputs": [],
   "source": [
    "train, test = load_split()\n",
    "cl = KDE_classifier(train, PERFORMERS, weights=weights, bandwidth=bandwidth, n_samples=n_samples)"
   ],
   "metadata": {
    "collapsed": false,
    "pycharm": {
     "name": "#%%\n"
    }
   }
  },
  {
   "cell_type": "code",
   "execution_count": 5,
   "outputs": [
    {
     "data": {
      "text/plain": "             time_onset  time_offset  velocity_onset  velocity_offset  \\\np5-P1-45-13    0.202006     0.209558        8.181818         4.545455   \np5-P1-45-14    0.207688     0.202104        6.000000         9.909091   \np5-P1-45-15    0.190449     0.188822        8.000000         6.090909   \np5-P1-45-16    0.176585     0.180203       17.909091         5.363636   \np5-P1-45-17    0.167916     0.163789       19.363636         2.818182   \np5-P1-45-18    0.171801     0.185326       13.636364        -4.090909   \np5-P1-45-19    0.189624     0.180810       15.454545         8.090909   \np5-P1-45-2     1.420953     1.242188        2.200000        -1.700000   \np5-P1-45-20    0.158617     0.176439       19.454545         7.090909   \np5-P1-45-21   -1.257843    -0.820849       -3.800000       -23.500000   \np5-P1-45-22    0.226579    -0.262955       -6.454545         2.818182   \np5-P1-45-3     0.180250    -0.000620        3.090909       -19.636364   \np5-P1-45-4     0.159562    -0.105248       10.636364        -6.636364   \np5-P1-45-5     0.809388     0.667775        7.700000        16.700000   \np5-P1-45-6     0.175468     0.087813       14.000000        13.454545   \np5-P1-45-7     0.191324     0.080212        3.727273         8.454545   \np5-P1-45-8     0.171559     0.083636       14.818182        10.636364   \np5-P1-46-1     0.779901     0.438556       10.800000       -15.200000   \np5-P1-46-10    0.135502     0.155800       17.454545         1.090909   \np5-P1-46-11    0.141232     0.137808        4.636364        -1.454545   \np5-P1-46-12    0.119743     0.117023        6.181818         2.272727   \np5-P1-46-13    0.114304     0.122681        6.818182         0.909091   \np5-P1-46-14    0.113575     0.109351        6.545455        -3.818182   \np5-P1-46-15    0.111901     0.104373        4.727273        -3.181818   \np5-P1-46-16    0.099396     0.096968        4.818182        -1.545455   \np5-P1-46-17    0.099056     0.110687        3.454545        -0.090909   \np5-P1-46-18    0.078587     0.093253        7.636364         1.363636   \np5-P1-46-19    0.074144     0.074775        3.181818         0.636364   \np5-P1-46-2     0.137687    -0.173016       18.181818         0.727273   \np5-P1-46-20    0.059235     0.045735        3.000000        -2.909091   \n\n             duration  inter_onset_interval  offset_time_duration performer  \np5-P1-45-13  0.007552             -0.025593              0.018041        p5  \np5-P1-45-14 -0.005584              0.005682             -0.000098        p5  \np5-P1-45-15 -0.001627             -0.017239              0.018866        p5  \np5-P1-45-16  0.003618             -0.013864              0.010247        p5  \np5-P1-45-17 -0.004127             -0.008669              0.012796        p5  \np5-P1-45-18  0.013525             -0.024306              0.010781        p5  \np5-P1-45-19 -0.008814              0.013743             -0.004929        p5  \np5-P1-45-2  -0.178765              0.000188              0.178578        p5  \np5-P1-45-20  0.017822             -0.031007              0.013185        p5  \np5-P1-45-21  0.436994             -0.039904             -0.397090        p5  \np5-P1-45-22 -0.489534             -0.059708              0.549242        p5  \np5-P1-45-3  -0.180870              0.028410              0.152461        p5  \np5-P1-45-4  -0.264810              0.091176              0.173634        p5  \np5-P1-45-5  -0.141613             -0.006944              0.148557        p5  \np5-P1-45-6  -0.087655              0.008474              0.079180        p5  \np5-P1-45-7  -0.111111             -0.026807              0.137918        p5  \np5-P1-45-8  -0.087923              0.056722              0.031201        p5  \np5-P1-46-1  -0.341345             -0.020219              0.361564        p5  \np5-P1-46-10  0.020299              0.004736             -0.025035        p5  \np5-P1-46-11 -0.003424              0.005730             -0.002306        p5  \np5-P1-46-12 -0.002720             -0.021489              0.024208        p5  \np5-P1-46-13  0.008377             -0.005439             -0.002938        p5  \np5-P1-46-14 -0.004225             -0.000729              0.004954        p5  \np5-P1-46-15 -0.007528             -0.001675              0.009202        p5  \np5-P1-46-16 -0.002428             -0.012505              0.014933        p5  \np5-P1-46-17  0.011631             -0.000340             -0.011291        p5  \np5-P1-46-18  0.014666             -0.063981              0.049314        p5  \np5-P1-46-19  0.000631              0.017337             -0.017968        p5  \np5-P1-46-2  -0.310703             -0.006968              0.317671        p5  \np5-P1-46-20 -0.013500             -0.014909              0.028409        p5  ",
      "text/html": "<div>\n<style scoped>\n    .dataframe tbody tr th:only-of-type {\n        vertical-align: middle;\n    }\n\n    .dataframe tbody tr th {\n        vertical-align: top;\n    }\n\n    .dataframe thead th {\n        text-align: right;\n    }\n</style>\n<table border=\"1\" class=\"dataframe\">\n  <thead>\n    <tr style=\"text-align: right;\">\n      <th></th>\n      <th>time_onset</th>\n      <th>time_offset</th>\n      <th>velocity_onset</th>\n      <th>velocity_offset</th>\n      <th>duration</th>\n      <th>inter_onset_interval</th>\n      <th>offset_time_duration</th>\n      <th>performer</th>\n    </tr>\n  </thead>\n  <tbody>\n    <tr>\n      <th>p5-P1-45-13</th>\n      <td>0.202006</td>\n      <td>0.209558</td>\n      <td>8.181818</td>\n      <td>4.545455</td>\n      <td>0.007552</td>\n      <td>-0.025593</td>\n      <td>0.018041</td>\n      <td>p5</td>\n    </tr>\n    <tr>\n      <th>p5-P1-45-14</th>\n      <td>0.207688</td>\n      <td>0.202104</td>\n      <td>6.000000</td>\n      <td>9.909091</td>\n      <td>-0.005584</td>\n      <td>0.005682</td>\n      <td>-0.000098</td>\n      <td>p5</td>\n    </tr>\n    <tr>\n      <th>p5-P1-45-15</th>\n      <td>0.190449</td>\n      <td>0.188822</td>\n      <td>8.000000</td>\n      <td>6.090909</td>\n      <td>-0.001627</td>\n      <td>-0.017239</td>\n      <td>0.018866</td>\n      <td>p5</td>\n    </tr>\n    <tr>\n      <th>p5-P1-45-16</th>\n      <td>0.176585</td>\n      <td>0.180203</td>\n      <td>17.909091</td>\n      <td>5.363636</td>\n      <td>0.003618</td>\n      <td>-0.013864</td>\n      <td>0.010247</td>\n      <td>p5</td>\n    </tr>\n    <tr>\n      <th>p5-P1-45-17</th>\n      <td>0.167916</td>\n      <td>0.163789</td>\n      <td>19.363636</td>\n      <td>2.818182</td>\n      <td>-0.004127</td>\n      <td>-0.008669</td>\n      <td>0.012796</td>\n      <td>p5</td>\n    </tr>\n    <tr>\n      <th>p5-P1-45-18</th>\n      <td>0.171801</td>\n      <td>0.185326</td>\n      <td>13.636364</td>\n      <td>-4.090909</td>\n      <td>0.013525</td>\n      <td>-0.024306</td>\n      <td>0.010781</td>\n      <td>p5</td>\n    </tr>\n    <tr>\n      <th>p5-P1-45-19</th>\n      <td>0.189624</td>\n      <td>0.180810</td>\n      <td>15.454545</td>\n      <td>8.090909</td>\n      <td>-0.008814</td>\n      <td>0.013743</td>\n      <td>-0.004929</td>\n      <td>p5</td>\n    </tr>\n    <tr>\n      <th>p5-P1-45-2</th>\n      <td>1.420953</td>\n      <td>1.242188</td>\n      <td>2.200000</td>\n      <td>-1.700000</td>\n      <td>-0.178765</td>\n      <td>0.000188</td>\n      <td>0.178578</td>\n      <td>p5</td>\n    </tr>\n    <tr>\n      <th>p5-P1-45-20</th>\n      <td>0.158617</td>\n      <td>0.176439</td>\n      <td>19.454545</td>\n      <td>7.090909</td>\n      <td>0.017822</td>\n      <td>-0.031007</td>\n      <td>0.013185</td>\n      <td>p5</td>\n    </tr>\n    <tr>\n      <th>p5-P1-45-21</th>\n      <td>-1.257843</td>\n      <td>-0.820849</td>\n      <td>-3.800000</td>\n      <td>-23.500000</td>\n      <td>0.436994</td>\n      <td>-0.039904</td>\n      <td>-0.397090</td>\n      <td>p5</td>\n    </tr>\n    <tr>\n      <th>p5-P1-45-22</th>\n      <td>0.226579</td>\n      <td>-0.262955</td>\n      <td>-6.454545</td>\n      <td>2.818182</td>\n      <td>-0.489534</td>\n      <td>-0.059708</td>\n      <td>0.549242</td>\n      <td>p5</td>\n    </tr>\n    <tr>\n      <th>p5-P1-45-3</th>\n      <td>0.180250</td>\n      <td>-0.000620</td>\n      <td>3.090909</td>\n      <td>-19.636364</td>\n      <td>-0.180870</td>\n      <td>0.028410</td>\n      <td>0.152461</td>\n      <td>p5</td>\n    </tr>\n    <tr>\n      <th>p5-P1-45-4</th>\n      <td>0.159562</td>\n      <td>-0.105248</td>\n      <td>10.636364</td>\n      <td>-6.636364</td>\n      <td>-0.264810</td>\n      <td>0.091176</td>\n      <td>0.173634</td>\n      <td>p5</td>\n    </tr>\n    <tr>\n      <th>p5-P1-45-5</th>\n      <td>0.809388</td>\n      <td>0.667775</td>\n      <td>7.700000</td>\n      <td>16.700000</td>\n      <td>-0.141613</td>\n      <td>-0.006944</td>\n      <td>0.148557</td>\n      <td>p5</td>\n    </tr>\n    <tr>\n      <th>p5-P1-45-6</th>\n      <td>0.175468</td>\n      <td>0.087813</td>\n      <td>14.000000</td>\n      <td>13.454545</td>\n      <td>-0.087655</td>\n      <td>0.008474</td>\n      <td>0.079180</td>\n      <td>p5</td>\n    </tr>\n    <tr>\n      <th>p5-P1-45-7</th>\n      <td>0.191324</td>\n      <td>0.080212</td>\n      <td>3.727273</td>\n      <td>8.454545</td>\n      <td>-0.111111</td>\n      <td>-0.026807</td>\n      <td>0.137918</td>\n      <td>p5</td>\n    </tr>\n    <tr>\n      <th>p5-P1-45-8</th>\n      <td>0.171559</td>\n      <td>0.083636</td>\n      <td>14.818182</td>\n      <td>10.636364</td>\n      <td>-0.087923</td>\n      <td>0.056722</td>\n      <td>0.031201</td>\n      <td>p5</td>\n    </tr>\n    <tr>\n      <th>p5-P1-46-1</th>\n      <td>0.779901</td>\n      <td>0.438556</td>\n      <td>10.800000</td>\n      <td>-15.200000</td>\n      <td>-0.341345</td>\n      <td>-0.020219</td>\n      <td>0.361564</td>\n      <td>p5</td>\n    </tr>\n    <tr>\n      <th>p5-P1-46-10</th>\n      <td>0.135502</td>\n      <td>0.155800</td>\n      <td>17.454545</td>\n      <td>1.090909</td>\n      <td>0.020299</td>\n      <td>0.004736</td>\n      <td>-0.025035</td>\n      <td>p5</td>\n    </tr>\n    <tr>\n      <th>p5-P1-46-11</th>\n      <td>0.141232</td>\n      <td>0.137808</td>\n      <td>4.636364</td>\n      <td>-1.454545</td>\n      <td>-0.003424</td>\n      <td>0.005730</td>\n      <td>-0.002306</td>\n      <td>p5</td>\n    </tr>\n    <tr>\n      <th>p5-P1-46-12</th>\n      <td>0.119743</td>\n      <td>0.117023</td>\n      <td>6.181818</td>\n      <td>2.272727</td>\n      <td>-0.002720</td>\n      <td>-0.021489</td>\n      <td>0.024208</td>\n      <td>p5</td>\n    </tr>\n    <tr>\n      <th>p5-P1-46-13</th>\n      <td>0.114304</td>\n      <td>0.122681</td>\n      <td>6.818182</td>\n      <td>0.909091</td>\n      <td>0.008377</td>\n      <td>-0.005439</td>\n      <td>-0.002938</td>\n      <td>p5</td>\n    </tr>\n    <tr>\n      <th>p5-P1-46-14</th>\n      <td>0.113575</td>\n      <td>0.109351</td>\n      <td>6.545455</td>\n      <td>-3.818182</td>\n      <td>-0.004225</td>\n      <td>-0.000729</td>\n      <td>0.004954</td>\n      <td>p5</td>\n    </tr>\n    <tr>\n      <th>p5-P1-46-15</th>\n      <td>0.111901</td>\n      <td>0.104373</td>\n      <td>4.727273</td>\n      <td>-3.181818</td>\n      <td>-0.007528</td>\n      <td>-0.001675</td>\n      <td>0.009202</td>\n      <td>p5</td>\n    </tr>\n    <tr>\n      <th>p5-P1-46-16</th>\n      <td>0.099396</td>\n      <td>0.096968</td>\n      <td>4.818182</td>\n      <td>-1.545455</td>\n      <td>-0.002428</td>\n      <td>-0.012505</td>\n      <td>0.014933</td>\n      <td>p5</td>\n    </tr>\n    <tr>\n      <th>p5-P1-46-17</th>\n      <td>0.099056</td>\n      <td>0.110687</td>\n      <td>3.454545</td>\n      <td>-0.090909</td>\n      <td>0.011631</td>\n      <td>-0.000340</td>\n      <td>-0.011291</td>\n      <td>p5</td>\n    </tr>\n    <tr>\n      <th>p5-P1-46-18</th>\n      <td>0.078587</td>\n      <td>0.093253</td>\n      <td>7.636364</td>\n      <td>1.363636</td>\n      <td>0.014666</td>\n      <td>-0.063981</td>\n      <td>0.049314</td>\n      <td>p5</td>\n    </tr>\n    <tr>\n      <th>p5-P1-46-19</th>\n      <td>0.074144</td>\n      <td>0.074775</td>\n      <td>3.181818</td>\n      <td>0.636364</td>\n      <td>0.000631</td>\n      <td>0.017337</td>\n      <td>-0.017968</td>\n      <td>p5</td>\n    </tr>\n    <tr>\n      <th>p5-P1-46-2</th>\n      <td>0.137687</td>\n      <td>-0.173016</td>\n      <td>18.181818</td>\n      <td>0.727273</td>\n      <td>-0.310703</td>\n      <td>-0.006968</td>\n      <td>0.317671</td>\n      <td>p5</td>\n    </tr>\n    <tr>\n      <th>p5-P1-46-20</th>\n      <td>0.059235</td>\n      <td>0.045735</td>\n      <td>3.000000</td>\n      <td>-2.909091</td>\n      <td>-0.013500</td>\n      <td>-0.014909</td>\n      <td>0.028409</td>\n      <td>p5</td>\n    </tr>\n  </tbody>\n</table>\n</div>"
     },
     "execution_count": 5,
     "metadata": {},
     "output_type": "execute_result"
    }
   ],
   "source": [
    "sample = test[:30]\n",
    "sample"
   ],
   "metadata": {
    "collapsed": false,
    "pycharm": {
     "name": "#%%\n"
    }
   }
  },
  {
   "cell_type": "code",
   "execution_count": 7,
   "outputs": [
    {
     "data": {
      "text/plain": "(7, 100)"
     },
     "execution_count": 7,
     "metadata": {},
     "output_type": "execute_result"
    }
   ],
   "source": [
    "s_dist = cl.get_sample_distributions(sample)\n",
    "s_dist.shape"
   ],
   "metadata": {
    "collapsed": false,
    "pycharm": {
     "name": "#%%\n"
    }
   }
  },
  {
   "cell_type": "code",
   "execution_count": 13,
   "outputs": [
    {
     "data": {
      "text/plain": "array([[3.40855565e+02, 3.18874248e+02, 2.25190539e+00, 1.13225277e+00,\n        9.03830399e-02, 4.26946430e-02, 6.63820942e-02],\n       [5.44548358e+00, 6.14955807e+00, 2.30562628e+00, 1.14419365e+00,\n        6.49452189e-02, 2.89527433e-02, 4.57254627e-02],\n       [2.65733742e+00, 2.44379865e+00, 1.96684026e+00, 1.06539781e+00,\n        2.31657989e-01, 4.18940284e-02, 1.75595843e-01],\n       [2.01180331e+00, 1.93615341e+00, 2.55898431e+00, 1.27258166e+00,\n        5.91004691e-02, 3.41473020e-02, 5.46169147e-02],\n       [2.31882273e+00, 2.44353897e+00, 2.20046663e+00, 1.17567392e+00,\n        1.05173803e-01, 3.15821404e-02, 9.44796431e-02],\n       [3.36473136e+00, 2.75554231e+00, 1.68228388e+00, 1.09973303e+00,\n        2.50328394e-01, 1.80797430e-02, 2.07501823e-01],\n       [3.42566827e+02, 3.12600613e+02, 1.79264721e+00, 1.18114037e+00,\n        9.18677371e-02, 1.50359978e-02, 5.10013807e-02],\n       [2.50338780e+00, 3.02722731e+00, 1.80663370e+00, 1.32998980e+00,\n        1.05040322e-01, 2.77746320e-02, 9.97401939e-02],\n       [2.87690673e+02, 1.48301077e+02, 1.56687392e+00, 1.13252531e+00,\n        2.32643840e-01, 1.49451700e-02, 1.88684944e-01],\n       [2.51219845e+00, 2.23565958e+00, 1.83522741e+00, 1.07061153e+00,\n        1.18737668e-01, 1.59683719e-02, 8.96341307e-02],\n       [3.51853536e+00, 3.79967446e+00, 2.36462539e+00, 1.15425695e+00,\n        1.57662034e-01, 4.16927642e-02, 1.14542323e-01]])"
     },
     "execution_count": 13,
     "metadata": {},
     "output_type": "execute_result"
    }
   ],
   "source": [
    "matrix = cl.compute_entropy_matrix(s_dist)\n",
    "matrix"
   ],
   "metadata": {
    "collapsed": false,
    "pycharm": {
     "name": "#%%\n"
    }
   }
  },
  {
   "cell_type": "code",
   "execution_count": 15,
   "outputs": [
    {
     "data": {
      "text/plain": "array([663.31343113,  15.184485  ,   8.582522  ,   7.92738739,\n         8.36973784,   9.37820055, 658.29913297,   8.89979375,\n       439.12742325,   7.87803715,  11.15098928])"
     },
     "execution_count": 15,
     "metadata": {},
     "output_type": "execute_result"
    }
   ],
   "source": [
    "np.dot(matrix, weights)"
   ],
   "metadata": {
    "collapsed": false,
    "pycharm": {
     "name": "#%%\n"
    }
   }
  }
 ],
 "metadata": {
  "kernelspec": {
   "display_name": "Python 3",
   "language": "python",
   "name": "python3"
  },
  "language_info": {
   "codemirror_mode": {
    "name": "ipython",
    "version": 2
   },
   "file_extension": ".py",
   "mimetype": "text/x-python",
   "name": "python",
   "nbconvert_exporter": "python",
   "pygments_lexer": "ipython2",
   "version": "2.7.6"
  }
 },
 "nbformat": 4,
 "nbformat_minor": 0
}