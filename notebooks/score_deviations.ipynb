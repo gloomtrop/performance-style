{
 "cells": [
  {
   "cell_type": "code",
   "execution_count": 1,
   "metadata": {
    "collapsed": true
   },
   "outputs": [],
   "source": [
    "import os\n",
    "\n",
    "from utils.paths import get_root_folder\n",
    "from utils.preprocessing import compute_average_performance, compute_deviations\n",
    "from utils.preprocessing import get_notes_df, get_notes_df_from_all_match_files"
   ]
  },
  {
   "cell_type": "code",
   "execution_count": 2,
   "outputs": [],
   "source": [
    "PIECE = 'D960'"
   ],
   "metadata": {
    "collapsed": false,
    "pycharm": {
     "name": "#%%\n"
    }
   }
  },
  {
   "cell_type": "code",
   "execution_count": 3,
   "outputs": [],
   "source": [
    "# Paths\n",
    "PATH = os.path.join(get_root_folder(), 'processed data', PIECE, 'match')\n",
    "SCORE_FILEPATH = os.path.join(PATH, 'score_match.txt')"
   ],
   "metadata": {
    "collapsed": false,
    "pycharm": {
     "name": "#%%\n"
    }
   }
  },
  {
   "cell_type": "code",
   "execution_count": 4,
   "outputs": [],
   "source": [
    "score_notes = get_notes_df(SCORE_FILEPATH)"
   ],
   "metadata": {
    "collapsed": false,
    "pycharm": {
     "name": "#%%\n"
    }
   }
  },
  {
   "cell_type": "code",
   "execution_count": 5,
   "outputs": [],
   "source": [
    "notes = get_notes_df_from_all_match_files(PIECE)\n",
    "average = compute_average_performance(notes)"
   ],
   "metadata": {
    "collapsed": false,
    "pycharm": {
     "name": "#%%\n"
    }
   }
  },
  {
   "cell_type": "code",
   "execution_count": 6,
   "outputs": [
    {
     "ename": "ValueError",
     "evalue": "Item wrong length 15719 instead of 22444.",
     "output_type": "error",
     "traceback": [
      "\u001B[0;31m---------------------------------------------------------------------------\u001B[0m",
      "\u001B[0;31mValueError\u001B[0m                                Traceback (most recent call last)",
      "Input \u001B[0;32mIn [6]\u001B[0m, in \u001B[0;36m<cell line: 1>\u001B[0;34m()\u001B[0m\n\u001B[0;32m----> 1\u001B[0m score_deviations \u001B[38;5;241m=\u001B[39m \u001B[43mcompute_deviations\u001B[49m\u001B[43m(\u001B[49m\u001B[43mnotes\u001B[49m\u001B[43m,\u001B[49m\u001B[43m \u001B[49m\u001B[43mscore_notes\u001B[49m\u001B[43m)\u001B[49m\n\u001B[1;32m      2\u001B[0m score_deviations\n",
      "File \u001B[0;32m~/git/performance-style/utils/preprocessing.py:99\u001B[0m, in \u001B[0;36mcompute_deviations\u001B[0;34m(notes, reference)\u001B[0m\n\u001B[1;32m     95\u001B[0m     \u001B[38;5;66;03m# new_deviations[column + '_std'] = new_deviations[column] / reference[STD_NUMBER_COLUMN_NAMES[i]]\u001B[39;00m\n\u001B[1;32m     96\u001B[0m \n\u001B[1;32m     97\u001B[0m \u001B[38;5;66;03m# Filter out values that are present in reference, but not in the given performance\u001B[39;00m\n\u001B[1;32m     98\u001B[0m mask \u001B[38;5;241m=\u001B[39m reference\u001B[38;5;241m.\u001B[39mindex\u001B[38;5;241m.\u001B[39misin(new_deviations\u001B[38;5;241m.\u001B[39mindex)\n\u001B[0;32m---> 99\u001B[0m filtered_deviations \u001B[38;5;241m=\u001B[39m \u001B[43mnew_deviations\u001B[49m\u001B[43m[\u001B[49m\u001B[43mmask\u001B[49m\u001B[43m]\u001B[49m\n\u001B[1;32m    101\u001B[0m filtered_deviations[\u001B[38;5;124m'\u001B[39m\u001B[38;5;124mperformer\u001B[39m\u001B[38;5;124m'\u001B[39m] \u001B[38;5;241m=\u001B[39m performer\n\u001B[1;32m    102\u001B[0m uid \u001B[38;5;241m=\u001B[39m performer \u001B[38;5;241m+\u001B[39m \u001B[38;5;124m'\u001B[39m\u001B[38;5;124m-\u001B[39m\u001B[38;5;124m'\u001B[39m \u001B[38;5;241m+\u001B[39m pd\u001B[38;5;241m.\u001B[39mSeries(new_deviations\u001B[38;5;241m.\u001B[39mindex)\n",
      "File \u001B[0;32m~/git/performance-style/venv/lib/python3.8/site-packages/pandas/core/frame.py:3496\u001B[0m, in \u001B[0;36mDataFrame.__getitem__\u001B[0;34m(self, key)\u001B[0m\n\u001B[1;32m   3494\u001B[0m \u001B[38;5;66;03m# Do we have a (boolean) 1d indexer?\u001B[39;00m\n\u001B[1;32m   3495\u001B[0m \u001B[38;5;28;01mif\u001B[39;00m com\u001B[38;5;241m.\u001B[39mis_bool_indexer(key):\n\u001B[0;32m-> 3496\u001B[0m     \u001B[38;5;28;01mreturn\u001B[39;00m \u001B[38;5;28;43mself\u001B[39;49m\u001B[38;5;241;43m.\u001B[39;49m\u001B[43m_getitem_bool_array\u001B[49m\u001B[43m(\u001B[49m\u001B[43mkey\u001B[49m\u001B[43m)\u001B[49m\n\u001B[1;32m   3498\u001B[0m \u001B[38;5;66;03m# We are left with two options: a single key, and a collection of keys,\u001B[39;00m\n\u001B[1;32m   3499\u001B[0m \u001B[38;5;66;03m# We interpret tuples as collections only for non-MultiIndex\u001B[39;00m\n\u001B[1;32m   3500\u001B[0m is_single_key \u001B[38;5;241m=\u001B[39m \u001B[38;5;28misinstance\u001B[39m(key, \u001B[38;5;28mtuple\u001B[39m) \u001B[38;5;129;01mor\u001B[39;00m \u001B[38;5;129;01mnot\u001B[39;00m is_list_like(key)\n",
      "File \u001B[0;32m~/git/performance-style/venv/lib/python3.8/site-packages/pandas/core/frame.py:3543\u001B[0m, in \u001B[0;36mDataFrame._getitem_bool_array\u001B[0;34m(self, key)\u001B[0m\n\u001B[1;32m   3537\u001B[0m     warnings\u001B[38;5;241m.\u001B[39mwarn(\n\u001B[1;32m   3538\u001B[0m         \u001B[38;5;124m\"\u001B[39m\u001B[38;5;124mBoolean Series key will be reindexed to match DataFrame index.\u001B[39m\u001B[38;5;124m\"\u001B[39m,\n\u001B[1;32m   3539\u001B[0m         \u001B[38;5;167;01mUserWarning\u001B[39;00m,\n\u001B[1;32m   3540\u001B[0m         stacklevel\u001B[38;5;241m=\u001B[39mfind_stack_level(),\n\u001B[1;32m   3541\u001B[0m     )\n\u001B[1;32m   3542\u001B[0m \u001B[38;5;28;01melif\u001B[39;00m \u001B[38;5;28mlen\u001B[39m(key) \u001B[38;5;241m!=\u001B[39m \u001B[38;5;28mlen\u001B[39m(\u001B[38;5;28mself\u001B[39m\u001B[38;5;241m.\u001B[39mindex):\n\u001B[0;32m-> 3543\u001B[0m     \u001B[38;5;28;01mraise\u001B[39;00m \u001B[38;5;167;01mValueError\u001B[39;00m(\n\u001B[1;32m   3544\u001B[0m         \u001B[38;5;124mf\u001B[39m\u001B[38;5;124m\"\u001B[39m\u001B[38;5;124mItem wrong length \u001B[39m\u001B[38;5;132;01m{\u001B[39;00m\u001B[38;5;28mlen\u001B[39m(key)\u001B[38;5;132;01m}\u001B[39;00m\u001B[38;5;124m instead of \u001B[39m\u001B[38;5;132;01m{\u001B[39;00m\u001B[38;5;28mlen\u001B[39m(\u001B[38;5;28mself\u001B[39m\u001B[38;5;241m.\u001B[39mindex)\u001B[38;5;132;01m}\u001B[39;00m\u001B[38;5;124m.\u001B[39m\u001B[38;5;124m\"\u001B[39m\n\u001B[1;32m   3545\u001B[0m     )\n\u001B[1;32m   3547\u001B[0m \u001B[38;5;66;03m# check_bool_indexer will throw exception if Series key cannot\u001B[39;00m\n\u001B[1;32m   3548\u001B[0m \u001B[38;5;66;03m# be reindexed to match DataFrame rows\u001B[39;00m\n\u001B[1;32m   3549\u001B[0m key \u001B[38;5;241m=\u001B[39m check_bool_indexer(\u001B[38;5;28mself\u001B[39m\u001B[38;5;241m.\u001B[39mindex, key)\n",
      "\u001B[0;31mValueError\u001B[0m: Item wrong length 15719 instead of 22444."
     ]
    }
   ],
   "source": [
    "score_deviations = compute_deviations(notes, score_notes)\n",
    "score_deviations"
   ],
   "metadata": {
    "collapsed": false,
    "pycharm": {
     "name": "#%%\n"
    }
   }
  },
  {
   "cell_type": "code",
   "execution_count": null,
   "outputs": [],
   "source": [
    "average_deviations = compute_deviations(notes, average)\n",
    "average_deviations"
   ],
   "metadata": {
    "collapsed": false,
    "pycharm": {
     "name": "#%%\n"
    }
   }
  }
 ],
 "metadata": {
  "kernelspec": {
   "display_name": "Python 3",
   "language": "python",
   "name": "python3"
  },
  "language_info": {
   "codemirror_mode": {
    "name": "ipython",
    "version": 2
   },
   "file_extension": ".py",
   "mimetype": "text/x-python",
   "name": "python",
   "nbconvert_exporter": "python",
   "pygments_lexer": "ipython2",
   "version": "2.7.6"
  }
 },
 "nbformat": 4,
 "nbformat_minor": 0
}